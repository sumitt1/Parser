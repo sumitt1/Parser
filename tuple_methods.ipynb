{
  "nbformat": 4,
  "nbformat_minor": 0,
  "metadata": {
    "colab": {
      "provenance": [],
      "authorship_tag": "ABX9TyOZop/GMEDhqZ718o2CO5Oo",
      "include_colab_link": true
    },
    "kernelspec": {
      "name": "python3",
      "display_name": "Python 3"
    },
    "language_info": {
      "name": "python"
    }
  },
  "cells": [
    {
      "cell_type": "markdown",
      "metadata": {
        "id": "view-in-github",
        "colab_type": "text"
      },
      "source": [
        "<a href=\"https://colab.research.google.com/github/sumitt1/Parser/blob/main/tuple_methods.ipynb\" target=\"_parent\"><img src=\"https://colab.research.google.com/assets/colab-badge.svg\" alt=\"Open In Colab\"/></a>"
      ]
    },
    {
      "cell_type": "code",
      "execution_count": 1,
      "metadata": {
        "colab": {
          "base_uri": "https://localhost:8080/"
        },
        "id": "QPIRTvITK-nb",
        "outputId": "4c086bbd-e7f9-4763-e7d7-59abe52b3acd"
      },
      "outputs": [
        {
          "output_type": "stream",
          "name": "stdout",
          "text": [
            "(1, 2, 3, 4)\n"
          ]
        }
      ],
      "source": [
        "my_tuple = (1, 2, 3)\n",
        "modified_tuple = my_tuple + (4,)  # Adding a new element to the tuple\n",
        "print(modified_tuple)  # Output: (1, 2, 3, 4)\n"
      ]
    },
    {
      "cell_type": "code",
      "source": [
        "my_tuple = (1, 2, 3, 4, 5)\n",
        "element_to_delete = 3\n",
        "\n",
        "# Create a new tuple without the element to delete\n",
        "new_tuple = tuple(element for element in my_tuple if element != element_to_delete)\n",
        "\n",
        "print(new_tuple)  # Output: (1, 2, 4, 5)\n"
      ],
      "metadata": {
        "colab": {
          "base_uri": "https://localhost:8080/"
        },
        "id": "14j13YHzM2pJ",
        "outputId": "709efca5-b9eb-44c0-b391-4c8aae3f268b"
      },
      "execution_count": 2,
      "outputs": [
        {
          "output_type": "stream",
          "name": "stdout",
          "text": [
            "(1, 2, 4, 5)\n"
          ]
        }
      ]
    },
    {
      "cell_type": "markdown",
      "source": [
        "Certainly! Here's an updated table with each data structure as a column and some commonly used methods associated with each one. I've also included syntax examples and real-time use cases for better understanding.\n",
        "\n",
        "| Method         | Tuple                                            | Set                                             | Array                                           | Dictionary                                      |\n",
        "|----------------|--------------------------------------------------|-------------------------------------------------|-------------------------------------------------|-------------------------------------------------|\n",
        "| `len()`        | `len(my_tuple)`                                  | `len(my_set)`                                   | `len(my_array)`                                 | `len(my_dict)`                                  |\n",
        "| `count()`      | `my_tuple.count(element)`                        | -                                               | -                                               | -                                               |\n",
        "| `index()`      | `my_tuple.index(element)`                        | -                                               | `my_array.index(element)`                       | -                                               |\n",
        "| `add()`        | -                                                | `my_set.add(element)`                           | -                                               | -                                               |\n",
        "| `remove()`     | -                                                | `my_set.remove(element)`                        | -                                               | `my_dict.pop(key)`                              |\n",
        "| `discard()`    | -                                                | `my_set.discard(element)`                       | -                                               | -                                               |\n",
        "| `union()`      | -                                                | `my_set.union(other_set)`                       | -                                               | -                                               |\n",
        "| `intersection()` | -                                              | `my_set.intersection(other_set)`                 | -                                               | -                                               |\n",
        "| `difference()` | -                                                | `my_set.difference(other_set)`                   | -                                               | -                                               |\n",
        "| `append()`     | -                                                | -                                               | `my_array.append(element)`                      | -                                               |\n",
        "| `extend()`     | -                                                | -                                               | `my_array.extend(other_array)`                  | -                                               |\n",
        "| `pop()`        | -                                                | -                                               | `my_array.pop(index)`                           | -                                               |\n",
        "| `insert()`     | -                                                | -                                               | `my_array.insert(index, element)`               | -                                               |\n",
        "| `keys()`       | -                                                | -                                               | -                                               | `my_dict.keys()`                                |\n",
        "| `values()`     | -                                                | -                                               | -                                               | `my_dict.values()`                              |\n",
        "| `items()`      | -                                                | -                                               | -                                               | `my_dict.items()`                               |\n",
        "| `get()`        | -                                                | -                                               | -                                               | `my_dict.get(key, default_value)`                |\n",
        "| `popitem()`    | -                                                | -                                               | -                                               | `my_dict.popitem()`                             |\n",
        "| `update()`     | -                                                | -                                               | -                                               | `my_dict.update(other_dict)`                    |\n",
        "| `in`           | `element in my_tuple`                           | `element in my_set`                             | `element in my_array`                           | `key in my_dict`                                |\n",
        "\n",
        "Now let's take a look at some syntax examples and real-time use cases for each data structure and their associated methods:\n",
        "\n",
        "**Tuple:**\n",
        "- Syntax: `my_tuple = (element1, element2, ...)`\n",
        "- Example: `person = (\"John\", 25, \"USA\")`\n",
        "- Use case: Tuples are often used to represent immutable collections of related values, such as representing coordinates (x, y) or a person's information (name, age, country).\n",
        "\n",
        "**Set:**\n",
        "- Syntax: `my_set = {element1, element2, ...}`\n",
        "- Example: `fruits = {\"apple\", \"banana\", \"orange\"}`\n",
        "- Use case: Sets are useful for storing unique elements and performing set operations like union, intersection, and difference. For example, you can use a set to store unique usernames or track unique visitors to a website.\n",
        "\n",
        "**Array:**\n",
        "- Syntax: `my_array = [element1,"
      ],
      "metadata": {
        "id": "bhLA2txiLD7G"
      }
    }
  ]
}