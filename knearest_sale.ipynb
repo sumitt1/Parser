{
  "nbformat": 4,
  "nbformat_minor": 0,
  "metadata": {
    "colab": {
      "provenance": [],
      "authorship_tag": "ABX9TyPnLo4MOxqOWntSgNwXI6EA",
      "include_colab_link": true
    },
    "kernelspec": {
      "name": "python3",
      "display_name": "Python 3"
    },
    "language_info": {
      "name": "python"
    }
  },
  "cells": [
    {
      "cell_type": "markdown",
      "metadata": {
        "id": "view-in-github",
        "colab_type": "text"
      },
      "source": [
        "<a href=\"https://colab.research.google.com/github/sumitt1/Parser/blob/main/knearest_sale.ipynb\" target=\"_parent\"><img src=\"https://colab.research.google.com/assets/colab-badge.svg\" alt=\"Open In Colab\"/></a>"
      ]
    },
    {
      "cell_type": "code",
      "execution_count": 3,
      "metadata": {
        "colab": {
          "base_uri": "https://localhost:8080/"
        },
        "id": "guawZD_KIE0z",
        "outputId": "b5ff3cf6-8110-4300-eb65-371b25e5adc4"
      },
      "outputs": [
        {
          "output_type": "stream",
          "name": "stdout",
          "text": [
            "[11  7  2  3  8 13 18]\n",
            "[2 3 1 4 0 5 6]\n",
            "[2 3 1]\n",
            "[10 15  5]\n"
          ]
        }
      ],
      "source": [
        "import numpy as np\n",
        "\n",
        "def find_k_nearest_neighbors(array, value, k):\n",
        "    # Calculate the absolute differences between the array elements and the value\n",
        "    differences = np.abs(array - value)\n",
        "\n",
        "    print(differences)\n",
        "    # Sort the array indices based on the differences\n",
        "    sorted_indices = np.argsort(differences)\n",
        "    print(sorted_indices)\n",
        "    \n",
        "    # Get the first k indices (nearest neighbors)\n",
        "    k_indices = sorted_indices[:k]\n",
        "    print(k_indices)\n",
        "   \n",
        "    # Get the corresponding values from the original array\n",
        "    nearest_neighbors = array[k_indices]\n",
        "\n",
        "\n",
        "    return nearest_neighbors\n",
        "\n",
        "# Example usage\n",
        "my_array = np.array([1, 5, 10, 15, 20, 25, 30])\n",
        "my_value = 12\n",
        "k = 3\n",
        "\n",
        "nearest_neighbors = find_k_nearest_neighbors(my_array, my_value, k)\n",
        "print(nearest_neighbors)\n"
      ]
    },
    {
      "cell_type": "code",
      "source": [
        "import numpy as np\n",
        "\n",
        "def find_k_nearest_neighbors(array, value, k):\n",
        "    differences = np.abs(array - value)\n",
        "    sorted_indices = np.argsort(differences)\n",
        "    k_indices = sorted_indices[:k]\n",
        "    nearest_neighbors = array[k_indices]\n",
        "    return nearest_neighbors\n",
        "\n",
        "# Example sales figures\n",
        "sales = np.array([100, 150, 200, 250, 300, 350, 400])\n",
        "target_sale = 220\n",
        "k = 3\n",
        "\n",
        "nearest_sales = find_k_nearest_neighbors(sales, target_sale, k)\n",
        "average_sale = np.mean(nearest_sales)\n",
        "\n",
        "print(\"Target Sale:\", target_sale)\n",
        "print(\"Nearest Sales:\", nearest_sales)\n",
        "print(\"Average Sale:\", average_sale)\n"
      ],
      "metadata": {
        "colab": {
          "base_uri": "https://localhost:8080/"
        },
        "id": "JJ55RiiAMLMo",
        "outputId": "6491d3b6-a3da-4d03-aeb7-01055967bddf"
      },
      "execution_count": 4,
      "outputs": [
        {
          "output_type": "stream",
          "name": "stdout",
          "text": [
            "Target Sale: 220\n",
            "Nearest Sales: [200 250 150]\n",
            "Average Sale: 200.0\n"
          ]
        }
      ]
    }
  ]
}