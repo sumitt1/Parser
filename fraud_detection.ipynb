{
  "nbformat": 4,
  "nbformat_minor": 0,
  "metadata": {
    "colab": {
      "provenance": [],
      "authorship_tag": "ABX9TyP/CNLlXR4hgkMJ0+lm3nb1",
      "include_colab_link": true
    },
    "kernelspec": {
      "name": "python3",
      "display_name": "Python 3"
    },
    "language_info": {
      "name": "python"
    }
  },
  "cells": [
    {
      "cell_type": "markdown",
      "metadata": {
        "id": "view-in-github",
        "colab_type": "text"
      },
      "source": [
        "<a href=\"https://colab.research.google.com/github/sumitt1/Parser/blob/main/fraud_detection.ipynb\" target=\"_parent\"><img src=\"https://colab.research.google.com/assets/colab-badge.svg\" alt=\"Open In Colab\"/></a>"
      ]
    },
    {
      "cell_type": "code",
      "source": [
        "# Configuration File: aws_iot_config.ini\n",
        "\n",
        "[AWS]\n",
        "access_key = AWS_ACCESS_KEY\n",
        "secret_key = AWS_SECRET_KEY\n",
        "region = AWS_REGION\n",
        "\n",
        "[IoT_Device]\n",
        "device_id = IOT_DEVICE_ID\n",
        "certificate_file = device_certificate.pem\n",
        "private_key_file = device_private_key.pem\n",
        "root_ca_file = root_ca.pem\n"
      ],
      "metadata": {
        "id": "mpNAOAuj4mZs"
      },
      "execution_count": null,
      "outputs": []
    },
    {
      "cell_type": "code",
      "source": [
        "import configparser\n",
        "\n",
        "# Read the configuration file\n",
        "config = configparser.ConfigParser()\n",
        "config.read('aws_iot_config.ini')\n",
        "\n",
        "# Access AWS credentials\n",
        "aws_access_key = config.get('AWS', 'access_key')\n",
        "aws_secret_key = config.get('AWS', 'secret_key')\n",
        "aws_region = config.get('AWS', 'region')\n",
        "\n",
        "# Access IoT device details\n",
        "device_id = config.get('IoT_Device', 'device_id')\n",
        "certificate_file = config.get('IoT_Device', 'certificate_file')\n",
        "private_key_file = config.get('IoT_Device', 'private_key_file')\n",
        "root_ca_file = config.get('IoT_Device', 'root_ca_file')\n",
        "\n",
        "\n",
        "# Retrieve data file from S3\n",
        "bucket_name = 'your-bucket-name'\n",
        "object_key = 'path/to/your/data/file.csv'\n",
        "response = s3.get_object(Bucket=bucket_name, Key=object_key)\n",
        "data = response['Body'].read().decode('utf-8')\n",
        "\n",
        "import pandas as pd\n",
        "df = pd.read_csv(data)\n"
      ],
      "metadata": {
        "id": "Tl8VTsR_4hl9"
      },
      "execution_count": null,
      "outputs": []
    },
    {
      "cell_type": "code",
      "source": [
        "import pandas as pd\n",
        "import numpy as np\n",
        "from sklearn.model_selection import train_test_split\n",
        "from sklearn.preprocessing import StandardScaler\n",
        "from keras.models import Sequential\n",
        "from keras.layers import Dense, Dropout\n",
        "\n",
        "# Load the dataset\n",
        "data = pd.read_csv('path/to/your/data/file.csv')\n",
        "\n",
        "# Separate the features and labels\n",
        "X = data.drop('label', axis=1)\n",
        "y = data['label']\n",
        "\n",
        "# Split the data into training and test sets\n",
        "X_train, X_test, y_train, y_test = train_test_split(X, y, test_size=0.2, random_state=42)\n",
        "\n",
        "# Normalize the data\n",
        "scaler = StandardScaler()\n",
        "X_train = scaler.fit_transform(X_train)\n",
        "X_test = scaler.transform(X_test)\n",
        "\n",
        "# Build the deep learning model\n",
        "model = Sequential()\n",
        "model.add(Dense(64, activation='relu', input_shape=(X_train.shape[1],)))\n",
        "model.add(Dropout(0.2))\n",
        "model.add(Dense(64, activation='relu'))\n",
        "model.add(Dropout(0.2))\n",
        "model.add(Dense(1, activation='sigmoid'))\n",
        "\n",
        "# Compile the model\n",
        "model.compile(loss='binary_crossentropy', optimizer='adam', metrics=['accuracy'])\n",
        "\n",
        "# Train the model\n",
        "model.fit(X_train, y_train, epochs=10, batch_size=32, validation_data=(X_test, y_test))\n",
        "\n",
        "# Make predictions on the test set\n",
        "y_pred = model.predict(X_test)\n",
        "y_pred = np.where(y_pred >= 0.5, 1, 0)\n",
        "\n",
        "# Evaluate the model\n",
        "accuracy = accuracy_score(y_test, y_pred)\n",
        "precision = precision_score(y_test, y_pred)\n",
        "recall = recall_score(y_test, y_pred)\n",
        "f1 = f1_score(y_test, y_pred)\n",
        "\n",
        "print(f\"Accuracy: {accuracy}\")\n",
        "print(f\"Precision: {precision}\")\n",
        "print(f\"Recall: {recall}\")\n",
        "print(f\"F1 Score: {f1}\")\n"
      ],
      "metadata": {
        "id": "XabYn8k_4aob"
      },
      "execution_count": null,
      "outputs": []
    },
    {
      "cell_type": "code",
      "source": [],
      "metadata": {
        "id": "d-Uk3VZ64dko"
      },
      "execution_count": null,
      "outputs": []
    }
  ]
}